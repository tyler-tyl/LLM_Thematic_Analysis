{
 "cells": [
  {
   "metadata": {},
   "cell_type": "code",
   "outputs": [],
   "execution_count": null,
   "source": [
    "%load_ext autoreload\n",
    "%autoreload 2\n",
    "from main import *"
   ],
   "id": "5166f1bd3d271d5"
  },
  {
   "metadata": {},
   "cell_type": "code",
   "outputs": [],
   "execution_count": null,
   "source": [
    "prj = Project(\"physiotherapists_culture_older_adults_mobility\",\"How do physiotherapists incorporate culture in older adults' mobility assessment, intervention, and prevention in their practice?\",\"interviews with several physiotherapists\")\n",
    "for i in transcriptsRaw: prj.transcripts[i] = Transcript(prj, i, transcriptsRaw[i]['Transcript'])"
   ],
   "id": "initial_id"
  },
  {
   "metadata": {},
   "cell_type": "code",
   "outputs": [],
   "execution_count": null,
   "source": "prj.codeTranscript(True,'A')",
   "id": "ecf81ec0f44fa34b"
  }
 ],
 "metadata": {
  "kernelspec": {
   "display_name": "Python 3",
   "language": "python",
   "name": "python3"
  },
  "language_info": {
   "codemirror_mode": {
    "name": "ipython",
    "version": 2
   },
   "file_extension": ".py",
   "mimetype": "text/x-python",
   "name": "python",
   "nbconvert_exporter": "python",
   "pygments_lexer": "ipython2",
   "version": "2.7.6"
  }
 },
 "nbformat": 4,
 "nbformat_minor": 5
}
